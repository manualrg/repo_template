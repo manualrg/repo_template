{
 "cells": [
  {
   "cell_type": "markdown",
   "id": "1b120850-3fb5-4ee7-963d-c536a7d26d44",
   "metadata": {},
   "source": [
    "<center><font size=\"12\">Imports Example</font> </center>"
   ]
  },
  {
   "cell_type": "code",
   "execution_count": 1,
   "id": "bd6c1b88-9ce4-4ddb-aed8-13f7d5bca98c",
   "metadata": {},
   "outputs": [],
   "source": [
    "%load_ext autoreload\n",
    "%autoreload 2"
   ]
  },
  {
   "cell_type": "code",
   "execution_count": 2,
   "id": "24ec30ec-ed9f-4a78-8326-98a341700146",
   "metadata": {},
   "outputs": [],
   "source": [
    "import pandas as pd\n",
    "import os\n",
    "from pathlib import Path"
   ]
  },
  {
   "cell_type": "code",
   "execution_count": 3,
   "id": "6a3ae614-67f9-4d2c-a4c9-e8e10ebe24b7",
   "metadata": {},
   "outputs": [
    {
     "data": {
      "text/plain": [
       "'C:\\\\Users\\\\MRomero\\\\Documents\\\\repos\\\\labs\\\\repo_template\\\\notebooks'"
      ]
     },
     "execution_count": 3,
     "metadata": {},
     "output_type": "execute_result"
    }
   ],
   "source": [
    "os.getcwd()"
   ]
  },
  {
   "cell_type": "markdown",
   "id": "2adbd23a-a970-4c70-afa6-81c226fbc51f",
   "metadata": {},
   "source": [
    "# Import from src/shared_code"
   ]
  },
  {
   "cell_type": "code",
   "execution_count": 4,
   "id": "ac2fc829-b3c7-43e1-a4d5-73f643db8a93",
   "metadata": {},
   "outputs": [],
   "source": [
    "from src.shared_code import utils, example"
   ]
  },
  {
   "cell_type": "code",
   "execution_count": 5,
   "id": "b202f1fe-7495-4672-a325-02ad0cb6786c",
   "metadata": {},
   "outputs": [
    {
     "name": "stdout",
     "output_type": "stream",
     "text": [
      "Hello world!\n"
     ]
    }
   ],
   "source": [
    "example.print_hello_world()"
   ]
  },
  {
   "cell_type": "markdown",
   "id": "76ff62b6-b617-4bd3-a790-060fcaf28f28",
   "metadata": {},
   "source": [
    "# Import from utils"
   ]
  },
  {
   "cell_type": "code",
   "execution_count": 6,
   "id": "43882efd-bf58-4dd2-b28d-a156278fb816",
   "metadata": {},
   "outputs": [
    {
     "data": {
      "text/plain": [
       "WindowsPath('C:/Users/MRomero/Documents/repos/labs/repo_template/data')"
      ]
     },
     "execution_count": 6,
     "metadata": {},
     "output_type": "execute_result"
    }
   ],
   "source": [
    "utils.path_data"
   ]
  },
  {
   "cell_type": "code",
   "execution_count": 8,
   "id": "415a3db0-38c3-4a0e-a523-37acca308421",
   "metadata": {},
   "outputs": [
    {
     "data": {
      "text/plain": [
       "WindowsPath('C:/Users/MRomero/Documents/repos/labs/repo_template/data/raw')"
      ]
     },
     "execution_count": 8,
     "metadata": {},
     "output_type": "execute_result"
    }
   ],
   "source": [
    "utils.path_data_raw"
   ]
  },
  {
   "cell_type": "code",
   "execution_count": 7,
   "id": "21479351-2814-4826-a99c-e81e243ebcc3",
   "metadata": {},
   "outputs": [
    {
     "data": {
      "text/plain": [
       "{'param': '1'}"
      ]
     },
     "execution_count": 7,
     "metadata": {},
     "output_type": "execute_result"
    }
   ],
   "source": [
    "conf = utils.get_conf()\n",
    "conf"
   ]
  },
  {
   "cell_type": "code",
   "execution_count": null,
   "id": "dd254de4-5889-4027-b158-42c463e00356",
   "metadata": {},
   "outputs": [],
   "source": []
  }
 ],
 "metadata": {
  "kernelspec": {
   "display_name": "Python 3 (ipykernel)",
   "language": "python",
   "name": "python3"
  },
  "language_info": {
   "codemirror_mode": {
    "name": "ipython",
    "version": 3
   },
   "file_extension": ".py",
   "mimetype": "text/x-python",
   "name": "python",
   "nbconvert_exporter": "python",
   "pygments_lexer": "ipython3",
   "version": "3.8.16"
  }
 },
 "nbformat": 4,
 "nbformat_minor": 5
}
