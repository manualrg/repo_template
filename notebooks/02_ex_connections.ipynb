{
 "cells": [
  {
   "cell_type": "markdown",
   "id": "f1124b7c-1939-49bf-8d17-b3bd2797e05f",
   "metadata": {},
   "source": [
    "<center><font size=\"12\">Connections Example</font> </center>"
   ]
  },
  {
   "cell_type": "code",
   "execution_count": 1,
   "id": "bd6c1b88-9ce4-4ddb-aed8-13f7d5bca98c",
   "metadata": {},
   "outputs": [],
   "source": [
    "%load_ext autoreload\n",
    "%autoreload 2"
   ]
  },
  {
   "cell_type": "code",
   "execution_count": 2,
   "id": "24ec30ec-ed9f-4a78-8326-98a341700146",
   "metadata": {},
   "outputs": [],
   "source": [
    "import os\n",
    "\n",
    "import pandas as pd"
   ]
  },
  {
   "cell_type": "code",
   "execution_count": 3,
   "id": "ac2fc829-b3c7-43e1-a4d5-73f643db8a93",
   "metadata": {},
   "outputs": [],
   "source": [
    "from src.shared_code import connectors as conn, dataset, utils\n",
    "from src import data_assets, project_env"
   ]
  },
  {
   "cell_type": "markdown",
   "id": "65d6ec3d-5a8b-443d-aac9-d623a66220d2",
   "metadata": {},
   "source": [
    "This notebook aims at providing unit examples on `data connections` creation and using.\n",
    "\n",
    "Firstly, `data connections` are created manually, by intanciating a `connection client` (using a factory function) that wraps the actual storage client system; the `data connectiion` is established by setting actual file metadata (like path)\n",
    "\n",
    "Then, `data connections` are created with its on factory function"
   ]
  },
  {
   "cell_type": "code",
   "execution_count": 4,
   "id": "af7dfd53-97a5-40a0-85f3-b76ae06b0ad0",
   "metadata": {},
   "outputs": [],
   "source": [
    "project_env.set_env_vars()  # laod environment variables"
   ]
  },
  {
   "cell_type": "code",
   "execution_count": 5,
   "id": "fa4f9079-a0b5-4110-ba8e-90436172ce70",
   "metadata": {},
   "outputs": [],
   "source": [
    "folder = \"testing_io\"\n",
    "ext = \"csv\"\n",
    "\n",
    "file_in = \"test_reading\"\n",
    "file_out = \"test_writting\""
   ]
  },
  {
   "cell_type": "code",
   "execution_count": 6,
   "id": "28e768b3-c35e-409b-95d3-2db754836949",
   "metadata": {},
   "outputs": [],
   "source": [
    "path_in = utils.path_data_raw / folder / f\"{file_in}.{ext}\"\n",
    "path_out = utils.path_data_interim / folder/ f\"{file_out}.{ext}\""
   ]
  },
  {
   "cell_type": "code",
   "execution_count": 7,
   "id": "e4d3023d-0441-4c15-8d94-092c1f827b64",
   "metadata": {
    "tags": []
   },
   "outputs": [
    {
     "data": {
      "text/plain": [
       "'c:/Users/MRomero/Documents/GCP/mlops-training-378617-49fbdb08c3f3.json'"
      ]
     },
     "execution_count": 7,
     "metadata": {},
     "output_type": "execute_result"
    }
   ],
   "source": [
    "os.environ[\"GOOGLE_APPLICATION_CREDENTIALS\"]"
   ]
  },
  {
   "cell_type": "markdown",
   "id": "6fc40a5c-40b6-4ce8-85e4-4aef9b427780",
   "metadata": {},
   "source": [
    "# Prerequisites"
   ]
  },
  {
   "cell_type": "markdown",
   "id": "743df10b-f34f-43b2-9d60-f35e313abcc8",
   "metadata": {},
   "source": [
    "* Define the necesary environment variables to instanciate the data connection desired, in this case, a local one. Other data connectors many need other kind of pre-requisites, like implementing a credentials instance\n",
    "    * AZ_STGACC_KEY=\"...\"\n",
    "    * GOOGLE_APPLICATION_CREDENTIALS=\"xxx.json\"\n",
    "    * GCP_PROJECT=\"\"\n",
    "    * GCP_BUCKET=\"\"\n",
    "* the file `data/raw/testing_io/test_reading.csv` is created"
   ]
  },
  {
   "cell_type": "code",
   "execution_count": 8,
   "id": "a3d06a13-218f-4734-9416-5c35f9560a4c",
   "metadata": {
    "tags": []
   },
   "outputs": [],
   "source": [
    "path_folder = utils.path_data_raw / folder\n",
    "\n",
    "if not (path_folder).is_dir():\n",
    "    print(f\"Creating folder: {path_folder}\")\n",
    "    path_folder.mkdir(parents=True)\n",
    "    "
   ]
  },
  {
   "cell_type": "code",
   "execution_count": 9,
   "id": "b1ece6b3-460e-426a-8b4b-21545c4bb24c",
   "metadata": {
    "tags": []
   },
   "outputs": [],
   "source": [
    "data = pd.DataFrame([[1,2,3], [4,5,6]], columns=[\"x1\", \"x2\", \"x3\"])"
   ]
  },
  {
   "cell_type": "code",
   "execution_count": 10,
   "id": "3393b3e4-364f-4913-9fe2-7555a2cf529e",
   "metadata": {
    "tags": []
   },
   "outputs": [
    {
     "name": "stdout",
     "output_type": "stream",
     "text": [
      "C:/Users/MRomero/Documents/repos/labs/repo_template/data/raw/testing_io/test_reading.csv\n"
     ]
    }
   ],
   "source": [
    "print(f\"{path_in.as_posix()}\")"
   ]
  },
  {
   "cell_type": "code",
   "execution_count": 11,
   "id": "b403252b-3484-48e4-9780-104b84ea45a2",
   "metadata": {
    "tags": []
   },
   "outputs": [],
   "source": [
    "data.to_csv( path_in, index=False)"
   ]
  },
  {
   "cell_type": "markdown",
   "id": "54595c7b-3276-470d-b1de-4b375df806bd",
   "metadata": {},
   "source": [
    "# Local Connection"
   ]
  },
  {
   "cell_type": "code",
   "execution_count": 12,
   "id": "21430704-c12d-4914-b0c5-105fe8e7b88b",
   "metadata": {},
   "outputs": [
    {
     "data": {
      "text/plain": [
       "<connectionsEnum.LOCAL: 'local'>"
      ]
     },
     "execution_count": 12,
     "metadata": {},
     "output_type": "execute_result"
    }
   ],
   "source": [
    "conn.connectionsEnum.LOCAL"
   ]
  },
  {
   "cell_type": "code",
   "execution_count": 13,
   "id": "00fcccfe-36e9-401c-892d-07d7779b975d",
   "metadata": {},
   "outputs": [
    {
     "data": {
      "text/html": [
       "<div>\n",
       "<style scoped>\n",
       "    .dataframe tbody tr th:only-of-type {\n",
       "        vertical-align: middle;\n",
       "    }\n",
       "\n",
       "    .dataframe tbody tr th {\n",
       "        vertical-align: top;\n",
       "    }\n",
       "\n",
       "    .dataframe thead th {\n",
       "        text-align: right;\n",
       "    }\n",
       "</style>\n",
       "<table border=\"1\" class=\"dataframe\">\n",
       "  <thead>\n",
       "    <tr style=\"text-align: right;\">\n",
       "      <th></th>\n",
       "      <th>x1</th>\n",
       "      <th>x2</th>\n",
       "      <th>x3</th>\n",
       "    </tr>\n",
       "  </thead>\n",
       "  <tbody>\n",
       "    <tr>\n",
       "      <th>0</th>\n",
       "      <td>1</td>\n",
       "      <td>2</td>\n",
       "      <td>3</td>\n",
       "    </tr>\n",
       "    <tr>\n",
       "      <th>1</th>\n",
       "      <td>4</td>\n",
       "      <td>5</td>\n",
       "      <td>6</td>\n",
       "    </tr>\n",
       "  </tbody>\n",
       "</table>\n",
       "</div>"
      ],
      "text/plain": [
       "   x1  x2  x3\n",
       "0   1   2   3\n",
       "1   4   5   6"
      ]
     },
     "execution_count": 13,
     "metadata": {},
     "output_type": "execute_result"
    }
   ],
   "source": [
    "client_local = conn.connection_client_factory(\n",
    "    connection_kind=conn.connectionsEnum.LOCAL,\n",
    "    connection_name=\"conn_local\")\n",
    "\n",
    "conn_local = conn.DataConnectorLocal(\n",
    "    connector_client=client_local,\n",
    "    layer=\"raw\",\n",
    "    path=f\"{folder}/{file_in}.{ext}\"\n",
    ")\n",
    "\n",
    "dataset_local = dataset.DatasetPandas(conn_local)\n",
    "df_train_local = dataset_local.read(func=pd.read_csv)\n",
    "\n",
    "df_train_local.head()"
   ]
  },
  {
   "cell_type": "code",
   "execution_count": 14,
   "id": "b7af9c19-1bdc-408f-9265-889f2adef059",
   "metadata": {},
   "outputs": [
    {
     "data": {
      "text/plain": [
       "{'features': [],\n",
       " 'target': [],\n",
       " 'id_cols': [],\n",
       " 'split_col': [],\n",
       " 'features_num': [],\n",
       " 'features_cat': []}"
      ]
     },
     "execution_count": 14,
     "metadata": {},
     "output_type": "execute_result"
    }
   ],
   "source": [
    "dataset_local.metadata()"
   ]
  },
  {
   "cell_type": "code",
   "execution_count": 15,
   "id": "858c0e84-c900-4c52-91d5-e45e96ff23f7",
   "metadata": {},
   "outputs": [
    {
     "data": {
      "text/plain": [
       "48"
      ]
     },
     "execution_count": 15,
     "metadata": {},
     "output_type": "execute_result"
    }
   ],
   "source": [
    "import sys\n",
    "\n",
    "sys.getsizeof(dataset_local)"
   ]
  },
  {
   "cell_type": "code",
   "execution_count": 16,
   "id": "413203b0-abb1-4cc9-9aaa-1e80c7e0ac91",
   "metadata": {
    "tags": []
   },
   "outputs": [
    {
     "name": "stdout",
     "output_type": "stream",
     "text": [
      "<class 'pandas.core.frame.DataFrame'>\n",
      "RangeIndex: 2 entries, 0 to 1\n",
      "Data columns (total 3 columns):\n",
      " #   Column  Non-Null Count  Dtype\n",
      "---  ------  --------------  -----\n",
      " 0   x1      2 non-null      int64\n",
      " 1   x2      2 non-null      int64\n",
      " 2   x3      2 non-null      int64\n",
      "dtypes: int64(3)\n",
      "memory usage: 176.0 bytes\n"
     ]
    }
   ],
   "source": [
    "df_train_local.info(memory_usage=True)"
   ]
  },
  {
   "cell_type": "markdown",
   "id": "931b02c8-eac1-476e-9c28-b48c1c533b48",
   "metadata": {},
   "source": [
    "# AzBlob connection"
   ]
  },
  {
   "cell_type": "code",
   "execution_count": 17,
   "id": "ae852dfa-54a7-45ee-936b-da981168a3fa",
   "metadata": {
    "tags": []
   },
   "outputs": [
    {
     "data": {
      "text/plain": [
       "<connectionsEnum.AZBLOB: 'azblob'>"
      ]
     },
     "execution_count": 17,
     "metadata": {},
     "output_type": "execute_result"
    }
   ],
   "source": [
    "conn.connectionsEnum.AZBLOB"
   ]
  },
  {
   "cell_type": "code",
   "execution_count": 18,
   "id": "6662e853-46cf-4b7a-b218-3f2697730198",
   "metadata": {
    "tags": []
   },
   "outputs": [],
   "source": [
    "client_azblob = conn.connection_client_factory(\n",
    "    connection_kind=conn.connectionsEnum.AZBLOB,\n",
    "    connection_name=\"conn_azblob\")"
   ]
  },
  {
   "cell_type": "code",
   "execution_count": 19,
   "id": "a6672015-e6dc-4742-a618-c0c2518f68b5",
   "metadata": {
    "tags": []
   },
   "outputs": [
    {
     "data": {
      "text/plain": [
       "WindowsPath('C:/Users/MRomero/Documents/repos/labs/repo_template/data/raw')"
      ]
     },
     "execution_count": 19,
     "metadata": {},
     "output_type": "execute_result"
    }
   ],
   "source": [
    "utils.path_data_raw"
   ]
  },
  {
   "cell_type": "code",
   "execution_count": 20,
   "id": "fc261d1f-e87d-4f26-bbab-12d18d71b9a1",
   "metadata": {
    "tags": []
   },
   "outputs": [
    {
     "data": {
      "text/plain": [
       "<src.shared_code.connectors.DataConnectorAzBlob at 0x230020487c0>"
      ]
     },
     "execution_count": 20,
     "metadata": {},
     "output_type": "execute_result"
    }
   ],
   "source": [
    "conn_azblob = conn.DataConnectorAzBlob(\n",
    "    connector_client=client_azblob,\n",
    "    layer=\"raw\",\n",
    "    path=\"dataset/2022/01/dataset.csv\")\n",
    "\n",
    "conn_azblob"
   ]
  },
  {
   "cell_type": "code",
   "execution_count": 21,
   "id": "a3747bb5-83a8-461e-83af-c0ea151f1f2c",
   "metadata": {
    "tags": []
   },
   "outputs": [
    {
     "name": "stdout",
     "output_type": "stream",
     "text": [
      "\n"
     ]
    },
    {
     "data": {
      "text/html": [
       "<div>\n",
       "<style scoped>\n",
       "    .dataframe tbody tr th:only-of-type {\n",
       "        vertical-align: middle;\n",
       "    }\n",
       "\n",
       "    .dataframe tbody tr th {\n",
       "        vertical-align: top;\n",
       "    }\n",
       "\n",
       "    .dataframe thead th {\n",
       "        text-align: right;\n",
       "    }\n",
       "</style>\n",
       "<table border=\"1\" class=\"dataframe\">\n",
       "  <thead>\n",
       "    <tr style=\"text-align: right;\">\n",
       "      <th></th>\n",
       "      <th>Unnamed: 0</th>\n",
       "      <th>age</th>\n",
       "      <th>job</th>\n",
       "      <th>marital</th>\n",
       "      <th>education</th>\n",
       "      <th>default</th>\n",
       "      <th>housing</th>\n",
       "      <th>loan</th>\n",
       "      <th>contact</th>\n",
       "      <th>month</th>\n",
       "      <th>...</th>\n",
       "      <th>campaign</th>\n",
       "      <th>pdays</th>\n",
       "      <th>previous</th>\n",
       "      <th>poutcome</th>\n",
       "      <th>emp.var.rate</th>\n",
       "      <th>cons.price.idx</th>\n",
       "      <th>cons.conf.idx</th>\n",
       "      <th>euribor3m</th>\n",
       "      <th>nr.employed</th>\n",
       "      <th>y</th>\n",
       "    </tr>\n",
       "  </thead>\n",
       "  <tbody>\n",
       "    <tr>\n",
       "      <th>0</th>\n",
       "      <td>63</td>\n",
       "      <td>46</td>\n",
       "      <td>services</td>\n",
       "      <td>married</td>\n",
       "      <td>high.school</td>\n",
       "      <td>no</td>\n",
       "      <td>yes</td>\n",
       "      <td>no</td>\n",
       "      <td>cellular</td>\n",
       "      <td>apr</td>\n",
       "      <td>...</td>\n",
       "      <td>1</td>\n",
       "      <td>999</td>\n",
       "      <td>0</td>\n",
       "      <td>nonexistent</td>\n",
       "      <td>-1.8</td>\n",
       "      <td>93.075</td>\n",
       "      <td>-47.1</td>\n",
       "      <td>1.405</td>\n",
       "      <td>5099.1</td>\n",
       "      <td>0</td>\n",
       "    </tr>\n",
       "    <tr>\n",
       "      <th>1</th>\n",
       "      <td>80</td>\n",
       "      <td>54</td>\n",
       "      <td>technician</td>\n",
       "      <td>married</td>\n",
       "      <td>professional.course</td>\n",
       "      <td>unknown</td>\n",
       "      <td>yes</td>\n",
       "      <td>no</td>\n",
       "      <td>cellular</td>\n",
       "      <td>apr</td>\n",
       "      <td>...</td>\n",
       "      <td>1</td>\n",
       "      <td>999</td>\n",
       "      <td>0</td>\n",
       "      <td>nonexistent</td>\n",
       "      <td>-1.8</td>\n",
       "      <td>93.075</td>\n",
       "      <td>-47.1</td>\n",
       "      <td>1.405</td>\n",
       "      <td>5099.1</td>\n",
       "      <td>0</td>\n",
       "    </tr>\n",
       "    <tr>\n",
       "      <th>2</th>\n",
       "      <td>83</td>\n",
       "      <td>57</td>\n",
       "      <td>retired</td>\n",
       "      <td>married</td>\n",
       "      <td>university.degree</td>\n",
       "      <td>no</td>\n",
       "      <td>yes</td>\n",
       "      <td>no</td>\n",
       "      <td>cellular</td>\n",
       "      <td>apr</td>\n",
       "      <td>...</td>\n",
       "      <td>1</td>\n",
       "      <td>2</td>\n",
       "      <td>1</td>\n",
       "      <td>success</td>\n",
       "      <td>-1.8</td>\n",
       "      <td>93.075</td>\n",
       "      <td>-47.1</td>\n",
       "      <td>1.365</td>\n",
       "      <td>5099.1</td>\n",
       "      <td>0</td>\n",
       "    </tr>\n",
       "    <tr>\n",
       "      <th>3</th>\n",
       "      <td>100</td>\n",
       "      <td>37</td>\n",
       "      <td>management</td>\n",
       "      <td>married</td>\n",
       "      <td>university.degree</td>\n",
       "      <td>unknown</td>\n",
       "      <td>no</td>\n",
       "      <td>yes</td>\n",
       "      <td>cellular</td>\n",
       "      <td>apr</td>\n",
       "      <td>...</td>\n",
       "      <td>1</td>\n",
       "      <td>999</td>\n",
       "      <td>1</td>\n",
       "      <td>failure</td>\n",
       "      <td>-1.8</td>\n",
       "      <td>93.075</td>\n",
       "      <td>-47.1</td>\n",
       "      <td>1.405</td>\n",
       "      <td>5099.1</td>\n",
       "      <td>0</td>\n",
       "    </tr>\n",
       "    <tr>\n",
       "      <th>4</th>\n",
       "      <td>104</td>\n",
       "      <td>33</td>\n",
       "      <td>services</td>\n",
       "      <td>single</td>\n",
       "      <td>basic.9y</td>\n",
       "      <td>no</td>\n",
       "      <td>yes</td>\n",
       "      <td>no</td>\n",
       "      <td>cellular</td>\n",
       "      <td>apr</td>\n",
       "      <td>...</td>\n",
       "      <td>2</td>\n",
       "      <td>999</td>\n",
       "      <td>0</td>\n",
       "      <td>nonexistent</td>\n",
       "      <td>-1.8</td>\n",
       "      <td>93.075</td>\n",
       "      <td>-47.1</td>\n",
       "      <td>1.410</td>\n",
       "      <td>5099.1</td>\n",
       "      <td>0</td>\n",
       "    </tr>\n",
       "  </tbody>\n",
       "</table>\n",
       "<p>5 rows × 22 columns</p>\n",
       "</div>"
      ],
      "text/plain": [
       "   Unnamed: 0  age         job  marital            education  default housing  \\\n",
       "0          63   46    services  married          high.school       no     yes   \n",
       "1          80   54  technician  married  professional.course  unknown     yes   \n",
       "2          83   57     retired  married    university.degree       no     yes   \n",
       "3         100   37  management  married    university.degree  unknown      no   \n",
       "4         104   33    services   single             basic.9y       no     yes   \n",
       "\n",
       "  loan   contact month  ... campaign  pdays  previous     poutcome  \\\n",
       "0   no  cellular   apr  ...        1    999         0  nonexistent   \n",
       "1   no  cellular   apr  ...        1    999         0  nonexistent   \n",
       "2   no  cellular   apr  ...        1      2         1      success   \n",
       "3  yes  cellular   apr  ...        1    999         1      failure   \n",
       "4   no  cellular   apr  ...        2    999         0  nonexistent   \n",
       "\n",
       "   emp.var.rate cons.price.idx  cons.conf.idx  euribor3m  nr.employed  y  \n",
       "0          -1.8         93.075          -47.1      1.405       5099.1  0  \n",
       "1          -1.8         93.075          -47.1      1.405       5099.1  0  \n",
       "2          -1.8         93.075          -47.1      1.365       5099.1  0  \n",
       "3          -1.8         93.075          -47.1      1.405       5099.1  0  \n",
       "4          -1.8         93.075          -47.1      1.410       5099.1  0  \n",
       "\n",
       "[5 rows x 22 columns]"
      ]
     },
     "execution_count": 21,
     "metadata": {},
     "output_type": "execute_result"
    }
   ],
   "source": [
    "dataset_azblob = dataset.DatasetPandas(conn_azblob)\n",
    "df_azblob = dataset_azblob.read(func=pd.read_csv)\n",
    "\n",
    "df_azblob.head()"
   ]
  },
  {
   "cell_type": "markdown",
   "id": "ede19d1e-24f4-4d41-9bf8-d13bed8c31a0",
   "metadata": {},
   "source": [
    "# GCS Connection"
   ]
  },
  {
   "cell_type": "code",
   "execution_count": 22,
   "id": "78905add-1b8a-4759-b226-e70a19ab71f9",
   "metadata": {
    "tags": []
   },
   "outputs": [
    {
     "data": {
      "text/plain": [
       "<connectionsEnum.GCS: 'gcs'>"
      ]
     },
     "execution_count": 22,
     "metadata": {},
     "output_type": "execute_result"
    }
   ],
   "source": [
    "conn.connectionsEnum.GCS"
   ]
  },
  {
   "cell_type": "code",
   "execution_count": 23,
   "id": "e4d5c3b7-ca25-44f8-93c5-7b50ffbeeaa5",
   "metadata": {
    "tags": []
   },
   "outputs": [],
   "source": [
    "client_gcs = conn.connection_client_factory(\n",
    "    connection_kind=conn.connectionsEnum.GCS,\n",
    "    connection_name=\"conn_gcs\")"
   ]
  },
  {
   "cell_type": "code",
   "execution_count": 24,
   "id": "a500d4d0-d16c-4d85-b305-82610d0815c1",
   "metadata": {
    "tags": []
   },
   "outputs": [
    {
     "data": {
      "text/plain": [
       "<src.shared_code.connectors.DataConnectorGCS at 0x230030806d0>"
      ]
     },
     "execution_count": 24,
     "metadata": {},
     "output_type": "execute_result"
    }
   ],
   "source": [
    "conn_gcs = conn.DataConnectorGCS(\n",
    "    connector_client=client_gcs,\n",
    "    layer=\"raw\",\n",
    "    path=f\"dataset/2022/01/dataset.csv\"\n",
    ")\n",
    "\n",
    "conn_gcs"
   ]
  },
  {
   "cell_type": "code",
   "execution_count": 25,
   "id": "4d2161c3-1efa-4bd8-8c93-b4cd95c835c6",
   "metadata": {
    "tags": []
   },
   "outputs": [
    {
     "name": "stdout",
     "output_type": "stream",
     "text": [
      "data/raw/dataset/2022/01/dataset.csv\n"
     ]
    },
    {
     "data": {
      "text/html": [
       "<div>\n",
       "<style scoped>\n",
       "    .dataframe tbody tr th:only-of-type {\n",
       "        vertical-align: middle;\n",
       "    }\n",
       "\n",
       "    .dataframe tbody tr th {\n",
       "        vertical-align: top;\n",
       "    }\n",
       "\n",
       "    .dataframe thead th {\n",
       "        text-align: right;\n",
       "    }\n",
       "</style>\n",
       "<table border=\"1\" class=\"dataframe\">\n",
       "  <thead>\n",
       "    <tr style=\"text-align: right;\">\n",
       "      <th></th>\n",
       "      <th>id_row</th>\n",
       "      <th>x_age</th>\n",
       "      <th>x_job</th>\n",
       "      <th>x_marital</th>\n",
       "      <th>x_education</th>\n",
       "      <th>x_default</th>\n",
       "      <th>x_housing</th>\n",
       "      <th>x_loan</th>\n",
       "      <th>x_contact</th>\n",
       "      <th>x_month</th>\n",
       "      <th>...</th>\n",
       "      <th>x_pdays</th>\n",
       "      <th>x_previous</th>\n",
       "      <th>x_poutcome</th>\n",
       "      <th>x_emp.var.rate</th>\n",
       "      <th>x_cons.price.idx</th>\n",
       "      <th>x_cons.conf.idx</th>\n",
       "      <th>x_euribor3m</th>\n",
       "      <th>x_nr.employed</th>\n",
       "      <th>id_row.1</th>\n",
       "      <th>y_subs</th>\n",
       "    </tr>\n",
       "  </thead>\n",
       "  <tbody>\n",
       "    <tr>\n",
       "      <th>0</th>\n",
       "      <td>27974</td>\n",
       "      <td>43</td>\n",
       "      <td>self-employed</td>\n",
       "      <td>married</td>\n",
       "      <td>high.school</td>\n",
       "      <td>unknown</td>\n",
       "      <td>yes</td>\n",
       "      <td>no</td>\n",
       "      <td>cellular</td>\n",
       "      <td>apr</td>\n",
       "      <td>...</td>\n",
       "      <td>999</td>\n",
       "      <td>0</td>\n",
       "      <td>nonexistent</td>\n",
       "      <td>-1.8</td>\n",
       "      <td>93.075</td>\n",
       "      <td>-47.1</td>\n",
       "      <td>1.498</td>\n",
       "      <td>5099.1</td>\n",
       "      <td>27974</td>\n",
       "      <td>0</td>\n",
       "    </tr>\n",
       "    <tr>\n",
       "      <th>1</th>\n",
       "      <td>27975</td>\n",
       "      <td>31</td>\n",
       "      <td>technician</td>\n",
       "      <td>married</td>\n",
       "      <td>professional.course</td>\n",
       "      <td>no</td>\n",
       "      <td>yes</td>\n",
       "      <td>no</td>\n",
       "      <td>cellular</td>\n",
       "      <td>apr</td>\n",
       "      <td>...</td>\n",
       "      <td>999</td>\n",
       "      <td>0</td>\n",
       "      <td>nonexistent</td>\n",
       "      <td>-1.8</td>\n",
       "      <td>93.075</td>\n",
       "      <td>-47.1</td>\n",
       "      <td>1.498</td>\n",
       "      <td>5099.1</td>\n",
       "      <td>27975</td>\n",
       "      <td>0</td>\n",
       "    </tr>\n",
       "    <tr>\n",
       "      <th>2</th>\n",
       "      <td>27976</td>\n",
       "      <td>43</td>\n",
       "      <td>self-employed</td>\n",
       "      <td>married</td>\n",
       "      <td>high.school</td>\n",
       "      <td>unknown</td>\n",
       "      <td>no</td>\n",
       "      <td>no</td>\n",
       "      <td>cellular</td>\n",
       "      <td>apr</td>\n",
       "      <td>...</td>\n",
       "      <td>999</td>\n",
       "      <td>0</td>\n",
       "      <td>nonexistent</td>\n",
       "      <td>-1.8</td>\n",
       "      <td>93.075</td>\n",
       "      <td>-47.1</td>\n",
       "      <td>1.498</td>\n",
       "      <td>5099.1</td>\n",
       "      <td>27976</td>\n",
       "      <td>0</td>\n",
       "    </tr>\n",
       "    <tr>\n",
       "      <th>3</th>\n",
       "      <td>27978</td>\n",
       "      <td>29</td>\n",
       "      <td>admin.</td>\n",
       "      <td>married</td>\n",
       "      <td>university.degree</td>\n",
       "      <td>no</td>\n",
       "      <td>yes</td>\n",
       "      <td>no</td>\n",
       "      <td>cellular</td>\n",
       "      <td>apr</td>\n",
       "      <td>...</td>\n",
       "      <td>999</td>\n",
       "      <td>0</td>\n",
       "      <td>nonexistent</td>\n",
       "      <td>-1.8</td>\n",
       "      <td>93.075</td>\n",
       "      <td>-47.1</td>\n",
       "      <td>1.498</td>\n",
       "      <td>5099.1</td>\n",
       "      <td>27978</td>\n",
       "      <td>0</td>\n",
       "    </tr>\n",
       "    <tr>\n",
       "      <th>4</th>\n",
       "      <td>27981</td>\n",
       "      <td>33</td>\n",
       "      <td>blue-collar</td>\n",
       "      <td>married</td>\n",
       "      <td>professional.course</td>\n",
       "      <td>no</td>\n",
       "      <td>yes</td>\n",
       "      <td>yes</td>\n",
       "      <td>cellular</td>\n",
       "      <td>apr</td>\n",
       "      <td>...</td>\n",
       "      <td>999</td>\n",
       "      <td>0</td>\n",
       "      <td>nonexistent</td>\n",
       "      <td>-1.8</td>\n",
       "      <td>93.075</td>\n",
       "      <td>-47.1</td>\n",
       "      <td>1.498</td>\n",
       "      <td>5099.1</td>\n",
       "      <td>27981</td>\n",
       "      <td>0</td>\n",
       "    </tr>\n",
       "  </tbody>\n",
       "</table>\n",
       "<p>5 rows × 23 columns</p>\n",
       "</div>"
      ],
      "text/plain": [
       "   id_row  x_age          x_job x_marital          x_education x_default  \\\n",
       "0   27974     43  self-employed   married          high.school   unknown   \n",
       "1   27975     31     technician   married  professional.course        no   \n",
       "2   27976     43  self-employed   married          high.school   unknown   \n",
       "3   27978     29         admin.   married    university.degree        no   \n",
       "4   27981     33    blue-collar   married  professional.course        no   \n",
       "\n",
       "  x_housing x_loan x_contact x_month  ... x_pdays  x_previous   x_poutcome  \\\n",
       "0       yes     no  cellular     apr  ...     999           0  nonexistent   \n",
       "1       yes     no  cellular     apr  ...     999           0  nonexistent   \n",
       "2        no     no  cellular     apr  ...     999           0  nonexistent   \n",
       "3       yes     no  cellular     apr  ...     999           0  nonexistent   \n",
       "4       yes    yes  cellular     apr  ...     999           0  nonexistent   \n",
       "\n",
       "   x_emp.var.rate  x_cons.price.idx x_cons.conf.idx  x_euribor3m  \\\n",
       "0            -1.8            93.075           -47.1        1.498   \n",
       "1            -1.8            93.075           -47.1        1.498   \n",
       "2            -1.8            93.075           -47.1        1.498   \n",
       "3            -1.8            93.075           -47.1        1.498   \n",
       "4            -1.8            93.075           -47.1        1.498   \n",
       "\n",
       "   x_nr.employed  id_row.1  y_subs  \n",
       "0         5099.1     27974       0  \n",
       "1         5099.1     27975       0  \n",
       "2         5099.1     27976       0  \n",
       "3         5099.1     27978       0  \n",
       "4         5099.1     27981       0  \n",
       "\n",
       "[5 rows x 23 columns]"
      ]
     },
     "execution_count": 25,
     "metadata": {},
     "output_type": "execute_result"
    }
   ],
   "source": [
    "ds_gcs = dataset.DatasetPandas(conn_gcs)\n",
    "df_gcs = ds_gcs.read(func=pd.read_csv)\n",
    "\n",
    "df_gcs.head()"
   ]
  },
  {
   "cell_type": "markdown",
   "id": "d7599465-2386-436b-b9df-37acf8162a69",
   "metadata": {},
   "source": [
    "# Data Connections Factory"
   ]
  },
  {
   "cell_type": "markdown",
   "id": "94878547-0ae4-4909-9506-9a6b217db66e",
   "metadata": {},
   "source": [
    "## Define Sources"
   ]
  },
  {
   "cell_type": "code",
   "execution_count": 26,
   "id": "726f1803-c4d4-4c47-b7e2-87fd17f9a914",
   "metadata": {},
   "outputs": [
    {
     "data": {
      "text/plain": [
       "DataAsset(name='testing_source', kind='local', layer='raw', path='testing_io/test_reading', extension='csv', description='features and labels from UCI datasets')"
      ]
     },
     "execution_count": 26,
     "metadata": {},
     "output_type": "execute_result"
    }
   ],
   "source": [
    "source_local = data_assets.sources[0]\n",
    "source_local"
   ]
  },
  {
   "cell_type": "markdown",
   "id": "44ad78ba-1826-482f-b6bb-6e85104fd91b",
   "metadata": {
    "tags": []
   },
   "source": [
    "## Define Sinks"
   ]
  },
  {
   "cell_type": "code",
   "execution_count": 27,
   "id": "395089a2-e247-4084-9e17-7fbdebd41738",
   "metadata": {
    "tags": []
   },
   "outputs": [
    {
     "data": {
      "text/plain": [
       "DataAsset(name='testing_sink', kind='local', layer='raw', path='testing_io/test_writting', extension='csv', description='features and labels from UCI datasets')"
      ]
     },
     "execution_count": 27,
     "metadata": {},
     "output_type": "execute_result"
    }
   ],
   "source": [
    "sink_local = data_assets.sinks[0]\n",
    "sink_local"
   ]
  },
  {
   "cell_type": "markdown",
   "id": "5d5e4231-44b4-4c72-bad0-39f9fa1d5142",
   "metadata": {},
   "source": [
    "## Define Data Connections"
   ]
  },
  {
   "cell_type": "code",
   "execution_count": 28,
   "id": "ba7ee8db-9b28-4f5b-b206-9fc08b329fbd",
   "metadata": {},
   "outputs": [],
   "source": [
    "conn_fac_local_source = conn.data_connections_factory(source_local)\n",
    "conn_fac_local_sink = conn.data_connections_factory(sink_local)"
   ]
  },
  {
   "cell_type": "markdown",
   "id": "5362d052-5921-4c8c-b7d0-2253a03710d5",
   "metadata": {},
   "source": [
    "## Read Data"
   ]
  },
  {
   "cell_type": "code",
   "execution_count": 29,
   "id": "7921e9fc-1686-4ea7-ad2c-9d7c7ec140f4",
   "metadata": {},
   "outputs": [
    {
     "data": {
      "text/html": [
       "<div>\n",
       "<style scoped>\n",
       "    .dataframe tbody tr th:only-of-type {\n",
       "        vertical-align: middle;\n",
       "    }\n",
       "\n",
       "    .dataframe tbody tr th {\n",
       "        vertical-align: top;\n",
       "    }\n",
       "\n",
       "    .dataframe thead th {\n",
       "        text-align: right;\n",
       "    }\n",
       "</style>\n",
       "<table border=\"1\" class=\"dataframe\">\n",
       "  <thead>\n",
       "    <tr style=\"text-align: right;\">\n",
       "      <th></th>\n",
       "      <th>x1</th>\n",
       "      <th>x2</th>\n",
       "      <th>x3</th>\n",
       "    </tr>\n",
       "  </thead>\n",
       "  <tbody>\n",
       "    <tr>\n",
       "      <th>0</th>\n",
       "      <td>1</td>\n",
       "      <td>2</td>\n",
       "      <td>3</td>\n",
       "    </tr>\n",
       "    <tr>\n",
       "      <th>1</th>\n",
       "      <td>4</td>\n",
       "      <td>5</td>\n",
       "      <td>6</td>\n",
       "    </tr>\n",
       "  </tbody>\n",
       "</table>\n",
       "</div>"
      ],
      "text/plain": [
       "   x1  x2  x3\n",
       "0   1   2   3\n",
       "1   4   5   6"
      ]
     },
     "execution_count": 29,
     "metadata": {},
     "output_type": "execute_result"
    }
   ],
   "source": [
    "ds_src_raw_local = dataset.DatasetPandas(conn_fac_local_source)\n",
    "df_in_local = ds_src_raw_local.read(func=pd.read_csv)\n",
    "\n",
    "df_in_local.head()"
   ]
  },
  {
   "cell_type": "markdown",
   "id": "4a13471b-44c2-45fd-a493-4f7337df9c95",
   "metadata": {},
   "source": [
    "## Write Data"
   ]
  },
  {
   "cell_type": "code",
   "execution_count": 30,
   "id": "2b70bb1b-aa26-44b1-8678-a24bb47987f8",
   "metadata": {},
   "outputs": [],
   "source": [
    "ds_sink_raw_local = dataset.DatasetPandas(conn_fac_local_sink)"
   ]
  },
  {
   "cell_type": "code",
   "execution_count": 31,
   "id": "aa9fb0c5-3113-45e6-89d3-775a6dca0445",
   "metadata": {},
   "outputs": [],
   "source": [
    "ds_sink_raw_local.write(\n",
    "    df_train_local, kwargs={\"index_label\": False})"
   ]
  },
  {
   "cell_type": "code",
   "execution_count": null,
   "id": "53c81169-59cf-45ac-820d-ac5777dae7ae",
   "metadata": {},
   "outputs": [],
   "source": []
  }
 ],
 "metadata": {
  "kernelspec": {
   "display_name": "Python 3 (ipykernel)",
   "language": "python",
   "name": "python3"
  },
  "language_info": {
   "codemirror_mode": {
    "name": "ipython",
    "version": 3
   },
   "file_extension": ".py",
   "mimetype": "text/x-python",
   "name": "python",
   "nbconvert_exporter": "python",
   "pygments_lexer": "ipython3",
   "version": "3.8.16"
  }
 },
 "nbformat": 4,
 "nbformat_minor": 5
}
