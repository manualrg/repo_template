{
 "cells": [
  {
   "cell_type": "code",
   "execution_count": 1,
   "id": "bd6c1b88-9ce4-4ddb-aed8-13f7d5bca98c",
   "metadata": {},
   "outputs": [],
   "source": [
    "%load_ext autoreload\n",
    "%autoreload 2"
   ]
  },
  {
   "cell_type": "code",
   "execution_count": 2,
   "id": "24ec30ec-ed9f-4a78-8326-98a341700146",
   "metadata": {},
   "outputs": [],
   "source": [
    "import os\n",
    "\n",
    "import pandas as pd"
   ]
  },
  {
   "cell_type": "code",
   "execution_count": 3,
   "id": "ac2fc829-b3c7-43e1-a4d5-73f643db8a93",
   "metadata": {},
   "outputs": [],
   "source": [
    "from src.shared_code import connectors as conn, dataset, utils\n",
    "from src import data_assets, project_env"
   ]
  },
  {
   "cell_type": "code",
   "execution_count": 4,
   "id": "af7dfd53-97a5-40a0-85f3-b76ae06b0ad0",
   "metadata": {},
   "outputs": [],
   "source": [
    "project_env.set_env_vars()"
   ]
  },
  {
   "cell_type": "code",
   "execution_count": 5,
   "id": "fa4f9079-a0b5-4110-ba8e-90436172ce70",
   "metadata": {},
   "outputs": [],
   "source": [
    "folder = \"testing_io\"\n",
    "ext = \"csv\"\n",
    "\n",
    "file_in = \"test_reading\"\n",
    "file_out = \"test_writting\""
   ]
  },
  {
   "cell_type": "code",
   "execution_count": 6,
   "id": "28e768b3-c35e-409b-95d3-2db754836949",
   "metadata": {},
   "outputs": [],
   "source": [
    "path_in = utils.path_data_raw / folder / f\"{file_in}.{ext}\"\n",
    "path_out = utils.path_data_interim / folder/ f\"{file_out}.{ext}\""
   ]
  },
  {
   "cell_type": "markdown",
   "id": "6fc40a5c-40b6-4ce8-85e4-4aef9b427780",
   "metadata": {},
   "source": [
    "# Prerequisites"
   ]
  },
  {
   "cell_type": "code",
   "execution_count": 7,
   "id": "a3d06a13-218f-4734-9416-5c35f9560a4c",
   "metadata": {
    "tags": []
   },
   "outputs": [],
   "source": [
    "path_folder = utils.path_data_raw / folder\n",
    "\n",
    "if not (path_folder).is_dir():\n",
    "    print(f\"Creating folder: {path_folder}\")\n",
    "    path_folder.mkdir(parents=True)\n",
    "    "
   ]
  },
  {
   "cell_type": "code",
   "execution_count": 8,
   "id": "b1ece6b3-460e-426a-8b4b-21545c4bb24c",
   "metadata": {
    "tags": []
   },
   "outputs": [],
   "source": [
    "data = pd.DataFrame([[1,2,3], [4,5,6]], columns=[\"x1\", \"x2\", \"x3\"])"
   ]
  },
  {
   "cell_type": "code",
   "execution_count": 9,
   "id": "3393b3e4-364f-4913-9fe2-7555a2cf529e",
   "metadata": {
    "tags": []
   },
   "outputs": [
    {
     "name": "stdout",
     "output_type": "stream",
     "text": [
      "C:/Users/MRomero/Documents/repos/labs/repo_template/data/raw/testing_io/test_reading.csv\n"
     ]
    }
   ],
   "source": [
    "print(f\"{path_in.as_posix()}\")"
   ]
  },
  {
   "cell_type": "code",
   "execution_count": 10,
   "id": "b403252b-3484-48e4-9780-104b84ea45a2",
   "metadata": {
    "tags": []
   },
   "outputs": [],
   "source": [
    "data.to_csv( path_in, index=False)"
   ]
  },
  {
   "cell_type": "markdown",
   "id": "54595c7b-3276-470d-b1de-4b375df806bd",
   "metadata": {},
   "source": [
    "# Local Connection"
   ]
  },
  {
   "cell_type": "code",
   "execution_count": 11,
   "id": "21430704-c12d-4914-b0c5-105fe8e7b88b",
   "metadata": {},
   "outputs": [
    {
     "data": {
      "text/plain": [
       "<connectionsEnum.LOCAL: 'local'>"
      ]
     },
     "execution_count": 11,
     "metadata": {},
     "output_type": "execute_result"
    }
   ],
   "source": [
    "conn.connectionsEnum.LOCAL"
   ]
  },
  {
   "cell_type": "code",
   "execution_count": 12,
   "id": "00fcccfe-36e9-401c-892d-07d7779b975d",
   "metadata": {},
   "outputs": [
    {
     "data": {
      "text/html": [
       "<div>\n",
       "<style scoped>\n",
       "    .dataframe tbody tr th:only-of-type {\n",
       "        vertical-align: middle;\n",
       "    }\n",
       "\n",
       "    .dataframe tbody tr th {\n",
       "        vertical-align: top;\n",
       "    }\n",
       "\n",
       "    .dataframe thead th {\n",
       "        text-align: right;\n",
       "    }\n",
       "</style>\n",
       "<table border=\"1\" class=\"dataframe\">\n",
       "  <thead>\n",
       "    <tr style=\"text-align: right;\">\n",
       "      <th></th>\n",
       "      <th>x1</th>\n",
       "      <th>x2</th>\n",
       "      <th>x3</th>\n",
       "    </tr>\n",
       "  </thead>\n",
       "  <tbody>\n",
       "    <tr>\n",
       "      <th>0</th>\n",
       "      <td>1</td>\n",
       "      <td>2</td>\n",
       "      <td>3</td>\n",
       "    </tr>\n",
       "    <tr>\n",
       "      <th>1</th>\n",
       "      <td>4</td>\n",
       "      <td>5</td>\n",
       "      <td>6</td>\n",
       "    </tr>\n",
       "  </tbody>\n",
       "</table>\n",
       "</div>"
      ],
      "text/plain": [
       "   x1  x2  x3\n",
       "0   1   2   3\n",
       "1   4   5   6"
      ]
     },
     "execution_count": 12,
     "metadata": {},
     "output_type": "execute_result"
    }
   ],
   "source": [
    "client_local = conn.connection_client_factory(\n",
    "    connection_kind=conn.connectionsEnum.LOCAL,\n",
    "    connection_name=\"conn_local\")\n",
    "\n",
    "conn_local = conn.DataConnectorLocal(\n",
    "    connector_client=client_local,\n",
    "    layer=\"raw\",\n",
    "    path=f\"{folder}/{file_in}.{ext}\"\n",
    ")\n",
    "\n",
    "dataset_local = dataset.DatasetPandas(conn_local)\n",
    "df_train_local = dataset_local.read(func=pd.read_csv)\n",
    "\n",
    "df_train_local.head()"
   ]
  },
  {
   "cell_type": "code",
   "execution_count": 13,
   "id": "b7af9c19-1bdc-408f-9265-889f2adef059",
   "metadata": {},
   "outputs": [
    {
     "data": {
      "text/plain": [
       "{'features': [],\n",
       " 'target': [],\n",
       " 'id_cols': [],\n",
       " 'split_col': [],\n",
       " 'features_num': [],\n",
       " 'features_cat': []}"
      ]
     },
     "execution_count": 13,
     "metadata": {},
     "output_type": "execute_result"
    }
   ],
   "source": [
    "dataset_local.metadata()"
   ]
  },
  {
   "cell_type": "code",
   "execution_count": 14,
   "id": "858c0e84-c900-4c52-91d5-e45e96ff23f7",
   "metadata": {},
   "outputs": [
    {
     "data": {
      "text/plain": [
       "48"
      ]
     },
     "execution_count": 14,
     "metadata": {},
     "output_type": "execute_result"
    }
   ],
   "source": [
    "import sys\n",
    "\n",
    "sys.getsizeof(dataset_local)"
   ]
  },
  {
   "cell_type": "code",
   "execution_count": 21,
   "id": "413203b0-abb1-4cc9-9aaa-1e80c7e0ac91",
   "metadata": {
    "tags": []
   },
   "outputs": [
    {
     "name": "stdout",
     "output_type": "stream",
     "text": [
      "<class 'pandas.core.frame.DataFrame'>\n",
      "RangeIndex: 2 entries, 0 to 1\n",
      "Data columns (total 3 columns):\n",
      " #   Column  Non-Null Count  Dtype\n",
      "---  ------  --------------  -----\n",
      " 0   x1      2 non-null      int64\n",
      " 1   x2      2 non-null      int64\n",
      " 2   x3      2 non-null      int64\n",
      "dtypes: int64(3)\n",
      "memory usage: 176.0 bytes\n"
     ]
    }
   ],
   "source": [
    "df_train_local.info(memory_usage=True)"
   ]
  },
  {
   "cell_type": "markdown",
   "id": "d7599465-2386-436b-b9df-37acf8162a69",
   "metadata": {},
   "source": [
    "# Data Connections Factory"
   ]
  },
  {
   "cell_type": "markdown",
   "id": "94878547-0ae4-4909-9506-9a6b217db66e",
   "metadata": {},
   "source": [
    "## Define Sources"
   ]
  },
  {
   "cell_type": "code",
   "execution_count": 22,
   "id": "726f1803-c4d4-4c47-b7e2-87fd17f9a914",
   "metadata": {},
   "outputs": [
    {
     "data": {
      "text/plain": [
       "DataAsset(name='testing_source', kind='local', layer='raw', path='testing_io/test_reading', extension='csv', description='features and labels from UCI datasets')"
      ]
     },
     "execution_count": 22,
     "metadata": {},
     "output_type": "execute_result"
    }
   ],
   "source": [
    "source_local = data_assets.sources[0]\n",
    "source_local"
   ]
  },
  {
   "cell_type": "markdown",
   "id": "44ad78ba-1826-482f-b6bb-6e85104fd91b",
   "metadata": {
    "tags": []
   },
   "source": [
    "## Define Sinks"
   ]
  },
  {
   "cell_type": "code",
   "execution_count": 23,
   "id": "395089a2-e247-4084-9e17-7fbdebd41738",
   "metadata": {
    "tags": []
   },
   "outputs": [
    {
     "data": {
      "text/plain": [
       "DataAsset(name='testing_sink', kind='local', layer='raw', path='testing_io/test_writting', extension='csv', description='features and labels from UCI datasets')"
      ]
     },
     "execution_count": 23,
     "metadata": {},
     "output_type": "execute_result"
    }
   ],
   "source": [
    "sink_local = data_assets.sinks[0]\n",
    "sink_local"
   ]
  },
  {
   "cell_type": "markdown",
   "id": "5d5e4231-44b4-4c72-bad0-39f9fa1d5142",
   "metadata": {},
   "source": [
    "## Define Data Connections"
   ]
  },
  {
   "cell_type": "code",
   "execution_count": 24,
   "id": "ba7ee8db-9b28-4f5b-b206-9fc08b329fbd",
   "metadata": {},
   "outputs": [],
   "source": [
    "conn_fac_local_source = conn.data_connections_factory(source_local)\n",
    "conn_fac_local_sink = conn.data_connections_factory(sink_local)"
   ]
  },
  {
   "cell_type": "markdown",
   "id": "5362d052-5921-4c8c-b7d0-2253a03710d5",
   "metadata": {},
   "source": [
    "## Read Data"
   ]
  },
  {
   "cell_type": "code",
   "execution_count": 18,
   "id": "7921e9fc-1686-4ea7-ad2c-9d7c7ec140f4",
   "metadata": {},
   "outputs": [
    {
     "data": {
      "text/html": [
       "<div>\n",
       "<style scoped>\n",
       "    .dataframe tbody tr th:only-of-type {\n",
       "        vertical-align: middle;\n",
       "    }\n",
       "\n",
       "    .dataframe tbody tr th {\n",
       "        vertical-align: top;\n",
       "    }\n",
       "\n",
       "    .dataframe thead th {\n",
       "        text-align: right;\n",
       "    }\n",
       "</style>\n",
       "<table border=\"1\" class=\"dataframe\">\n",
       "  <thead>\n",
       "    <tr style=\"text-align: right;\">\n",
       "      <th></th>\n",
       "      <th>x1</th>\n",
       "      <th>x2</th>\n",
       "      <th>x3</th>\n",
       "    </tr>\n",
       "  </thead>\n",
       "  <tbody>\n",
       "    <tr>\n",
       "      <th>0</th>\n",
       "      <td>1</td>\n",
       "      <td>2</td>\n",
       "      <td>3</td>\n",
       "    </tr>\n",
       "    <tr>\n",
       "      <th>1</th>\n",
       "      <td>4</td>\n",
       "      <td>5</td>\n",
       "      <td>6</td>\n",
       "    </tr>\n",
       "  </tbody>\n",
       "</table>\n",
       "</div>"
      ],
      "text/plain": [
       "   x1  x2  x3\n",
       "0   1   2   3\n",
       "1   4   5   6"
      ]
     },
     "execution_count": 18,
     "metadata": {},
     "output_type": "execute_result"
    }
   ],
   "source": [
    "ds_src_raw_local = dataset.DatasetPandas(conn_fac_local_source)\n",
    "df_in_local = ds_src_raw_local.read(func=pd.read_csv)\n",
    "\n",
    "df_in_local.head()"
   ]
  },
  {
   "cell_type": "markdown",
   "id": "4a13471b-44c2-45fd-a493-4f7337df9c95",
   "metadata": {},
   "source": [
    "## Write Data"
   ]
  },
  {
   "cell_type": "code",
   "execution_count": 19,
   "id": "2b70bb1b-aa26-44b1-8678-a24bb47987f8",
   "metadata": {},
   "outputs": [],
   "source": [
    "ds_sink_raw_local = dataset.DatasetPandas(conn_fac_local_sink)"
   ]
  },
  {
   "cell_type": "code",
   "execution_count": 20,
   "id": "aa9fb0c5-3113-45e6-89d3-775a6dca0445",
   "metadata": {},
   "outputs": [],
   "source": [
    "ds_sink_raw_local.write(\n",
    "    df_train_local, kwargs={\"index_label\": False})"
   ]
  },
  {
   "cell_type": "code",
   "execution_count": null,
   "id": "53c81169-59cf-45ac-820d-ac5777dae7ae",
   "metadata": {},
   "outputs": [],
   "source": []
  }
 ],
 "metadata": {
  "kernelspec": {
   "display_name": "Python 3 (ipykernel)",
   "language": "python",
   "name": "python3"
  },
  "language_info": {
   "codemirror_mode": {
    "name": "ipython",
    "version": 3
   },
   "file_extension": ".py",
   "mimetype": "text/x-python",
   "name": "python",
   "nbconvert_exporter": "python",
   "pygments_lexer": "ipython3",
   "version": "3.8.16"
  }
 },
 "nbformat": 4,
 "nbformat_minor": 5
}
