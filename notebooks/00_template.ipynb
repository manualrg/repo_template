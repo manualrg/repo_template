{
 "cells": [
  {
   "cell_type": "code",
   "execution_count": 1,
   "id": "bd6c1b88-9ce4-4ddb-aed8-13f7d5bca98c",
   "metadata": {
    "tags": []
   },
   "outputs": [],
   "source": [
    "%load_ext autoreload\n",
    "%autoreload 2"
   ]
  },
  {
   "cell_type": "code",
   "execution_count": 2,
   "id": "24ec30ec-ed9f-4a78-8326-98a341700146",
   "metadata": {
    "tags": []
   },
   "outputs": [],
   "source": [
    "import os\n",
    "\n",
    "from src.shared_code import utils, example"
   ]
  },
  {
   "cell_type": "code",
   "execution_count": null,
   "id": "7d38c8c9-488f-4204-a482-2800246d06e5",
   "metadata": {},
   "outputs": [],
   "source": []
  }
 ],
 "metadata": {
  "kernelspec": {
   "display_name": "Python 3 (ipykernel)",
   "language": "python",
   "name": "python3"
  },
  "language_info": {
   "codemirror_mode": {
    "name": "ipython",
    "version": 3
   },
   "file_extension": ".py",
   "mimetype": "text/x-python",
   "name": "python",
   "nbconvert_exporter": "python",
   "pygments_lexer": "ipython3",
   "version": "3.8.16"
  }
 },
 "nbformat": 4,
 "nbformat_minor": 5
}
