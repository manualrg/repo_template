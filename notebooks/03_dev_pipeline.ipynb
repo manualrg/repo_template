{
 "cells": [
  {
   "cell_type": "markdown",
   "id": "8ba05566-85fb-48ae-aae4-214341fd0be1",
   "metadata": {},
   "source": [
    "<center><font size=\"12\">Pipeline example</font> </center>"
   ]
  },
  {
   "cell_type": "code",
   "execution_count": 1,
   "id": "bd6c1b88-9ce4-4ddb-aed8-13f7d5bca98c",
   "metadata": {
    "tags": []
   },
   "outputs": [],
   "source": [
    "%load_ext autoreload\n",
    "%autoreload 2"
   ]
  },
  {
   "cell_type": "code",
   "execution_count": 2,
   "id": "e78e4ad4-d7ce-4327-9896-4f9713c155b6",
   "metadata": {
    "tags": []
   },
   "outputs": [],
   "source": [
    "import pandas as pd"
   ]
  },
  {
   "cell_type": "code",
   "execution_count": 3,
   "id": "943e680e-37cf-48fa-a98e-998ed8692c02",
   "metadata": {
    "tags": []
   },
   "outputs": [],
   "source": [
    "from src.shared_code import connectors as conn, dataset\n",
    "from src import data_assets, project_env, example"
   ]
  },
  {
   "cell_type": "markdown",
   "id": "857ca020-cbf7-49f1-94dd-bbe122aeb46e",
   "metadata": {},
   "source": [
    "This notebook gives a structured example on how to leverage the template software architecture in a simple pipeline.\n",
    "\n",
    "The framework stablishes the following sequence:\n",
    "* Define a set of sources and sinks, by implementing  a `data connector` and pointing a `dataset` to  each one.\n",
    "    * The `dataset` abstraction, when instanciate with a source, allows to read actual data (in this case a csv file) and then materialize it in an adeacuate data structure (a pandas DataFrame)\n",
    "    * A `data connector` is instanciated using a factory function `connections.data_connections_factory` that takes as input the `data asset` (source or sink) definition\n",
    "    * On the other thand, when the `dataset` is instaciated with a sink, the writing of the data to the actual storage implemented by the `data connector`\n",
    "    * Shared `data assets` (sources and sinks) can be leveraged by importing from `src/shared_code/utils.py`, whereas project specific datasets should be implemented in `src/data_assets.py`\n",
    "* Materialize the data in actual data structures (pandas DataFrames) and implement desired pipline"
   ]
  },
  {
   "cell_type": "markdown",
   "id": "c7183d02-c4e5-478c-979f-515c955ccad0",
   "metadata": {},
   "source": [
    "# Prerequisites"
   ]
  },
  {
   "cell_type": "markdown",
   "id": "f508b81a-772e-431f-8e83-492429bbe344",
   "metadata": {},
   "source": [
    "* Define the necesary environment variables to instanciate the data connection desired, in this case, a local one. Other data connectors many need other kind of pre-requisites, like implementing a credentials instance\n",
    "* the file `data/raw/testing_io/test_reading.csv` should exist"
   ]
  },
  {
   "cell_type": "code",
   "execution_count": 4,
   "id": "83209941-ef12-42e3-bbd3-2f7c1f1461b0",
   "metadata": {
    "tags": []
   },
   "outputs": [],
   "source": [
    "project_env.set_env_vars()"
   ]
  },
  {
   "cell_type": "markdown",
   "id": "41e7ddf3-c8ae-4a4a-b669-f0c7be9b4177",
   "metadata": {},
   "source": [
    "# Args"
   ]
  },
  {
   "cell_type": "code",
   "execution_count": 5,
   "id": "8c6cca1a-f615-430a-9b75-4c732a9c0428",
   "metadata": {
    "tags": []
   },
   "outputs": [],
   "source": [
    "factor = 2"
   ]
  },
  {
   "cell_type": "markdown",
   "id": "3961ab7e-1266-4045-a0ef-2fb686c5d74a",
   "metadata": {},
   "source": [
    "# Define Sources"
   ]
  },
  {
   "cell_type": "code",
   "execution_count": 6,
   "id": "f9e37136-53fc-46ad-910e-655d152aa94a",
   "metadata": {
    "tags": []
   },
   "outputs": [
    {
     "data": {
      "text/plain": [
       "DataAsset(name='testing_source', kind='local', layer='raw', path='testing_io/test_reading', extension='csv', description='features and labels from UCI datasets')"
      ]
     },
     "execution_count": 6,
     "metadata": {},
     "output_type": "execute_result"
    }
   ],
   "source": [
    "source_data = data_assets.sources[0]\n",
    "source_data"
   ]
  },
  {
   "cell_type": "code",
   "execution_count": 7,
   "id": "9c575b22-e772-44b6-a4b3-c55ac67224dc",
   "metadata": {
    "tags": []
   },
   "outputs": [],
   "source": [
    "conn_src = conn.data_connections_factory(source_data)"
   ]
  },
  {
   "cell_type": "code",
   "execution_count": 8,
   "id": "17d26f3c-4f67-4529-8489-f1495d0c3e63",
   "metadata": {
    "tags": []
   },
   "outputs": [],
   "source": [
    "ds_src = dataset.DatasetPandas(conn_src)"
   ]
  },
  {
   "cell_type": "markdown",
   "id": "3becf422-6303-4361-9072-cca57611b4e3",
   "metadata": {},
   "source": [
    "# Define Sinks"
   ]
  },
  {
   "cell_type": "code",
   "execution_count": 9,
   "id": "1cce8a5e-0393-4b91-9acb-b36e4009c61f",
   "metadata": {
    "tags": []
   },
   "outputs": [
    {
     "data": {
      "text/plain": [
       "DataAsset(name='testing_source', kind='local', layer='raw', path='testing_io/test_reading', extension='csv', description='features and labels from UCI datasets')"
      ]
     },
     "execution_count": 9,
     "metadata": {},
     "output_type": "execute_result"
    }
   ],
   "source": [
    "sink_data = data_assets.sources[0] \n",
    "sink_data"
   ]
  },
  {
   "cell_type": "code",
   "execution_count": 10,
   "id": "5500aecf-6f5b-417f-8a1a-c11eaa42307b",
   "metadata": {
    "tags": []
   },
   "outputs": [],
   "source": [
    "conn_sink = conn.data_connections_factory(sink_data)"
   ]
  },
  {
   "cell_type": "code",
   "execution_count": 11,
   "id": "78ee4902-a075-421a-9a37-f05c31270c57",
   "metadata": {
    "tags": []
   },
   "outputs": [],
   "source": [
    "ds_sink = dataset.DatasetPandas(conn_sink)"
   ]
  },
  {
   "cell_type": "markdown",
   "id": "d8ca4c37-8645-4342-9fcf-1715cbeb7d9f",
   "metadata": {},
   "source": [
    "# Run Pipeline"
   ]
  },
  {
   "cell_type": "code",
   "execution_count": 12,
   "id": "dea500d4-bb9a-4be9-8744-559c81f1997c",
   "metadata": {
    "tags": []
   },
   "outputs": [
    {
     "data": {
      "text/html": [
       "<div>\n",
       "<style scoped>\n",
       "    .dataframe tbody tr th:only-of-type {\n",
       "        vertical-align: middle;\n",
       "    }\n",
       "\n",
       "    .dataframe tbody tr th {\n",
       "        vertical-align: top;\n",
       "    }\n",
       "\n",
       "    .dataframe thead th {\n",
       "        text-align: right;\n",
       "    }\n",
       "</style>\n",
       "<table border=\"1\" class=\"dataframe\">\n",
       "  <thead>\n",
       "    <tr style=\"text-align: right;\">\n",
       "      <th></th>\n",
       "      <th>x_1</th>\n",
       "      <th>x_2</th>\n",
       "      <th>y</th>\n",
       "    </tr>\n",
       "  </thead>\n",
       "  <tbody>\n",
       "    <tr>\n",
       "      <th>0</th>\n",
       "      <td>4</td>\n",
       "      <td>8</td>\n",
       "      <td>12</td>\n",
       "    </tr>\n",
       "    <tr>\n",
       "      <th>1</th>\n",
       "      <td>16</td>\n",
       "      <td>20</td>\n",
       "      <td>24</td>\n",
       "    </tr>\n",
       "  </tbody>\n",
       "</table>\n",
       "</div>"
      ],
      "text/plain": [
       "   x_1  x_2   y\n",
       "0    4    8  12\n",
       "1   16   20  24"
      ]
     },
     "execution_count": 12,
     "metadata": {},
     "output_type": "execute_result"
    }
   ],
   "source": [
    "df_src = ds_src.read(func=pd.read_csv)\n",
    "df_src.head()"
   ]
  },
  {
   "cell_type": "code",
   "execution_count": 13,
   "id": "1926d5a8-61fe-4298-84eb-8b7ac2dd045a",
   "metadata": {
    "tags": []
   },
   "outputs": [
    {
     "data": {
      "text/html": [
       "<div>\n",
       "<style scoped>\n",
       "    .dataframe tbody tr th:only-of-type {\n",
       "        vertical-align: middle;\n",
       "    }\n",
       "\n",
       "    .dataframe tbody tr th {\n",
       "        vertical-align: top;\n",
       "    }\n",
       "\n",
       "    .dataframe thead th {\n",
       "        text-align: right;\n",
       "    }\n",
       "</style>\n",
       "<table border=\"1\" class=\"dataframe\">\n",
       "  <thead>\n",
       "    <tr style=\"text-align: right;\">\n",
       "      <th></th>\n",
       "      <th>x_1</th>\n",
       "      <th>x_2</th>\n",
       "      <th>y</th>\n",
       "    </tr>\n",
       "  </thead>\n",
       "  <tbody>\n",
       "    <tr>\n",
       "      <th>0</th>\n",
       "      <td>8</td>\n",
       "      <td>16</td>\n",
       "      <td>24</td>\n",
       "    </tr>\n",
       "    <tr>\n",
       "      <th>1</th>\n",
       "      <td>32</td>\n",
       "      <td>40</td>\n",
       "      <td>48</td>\n",
       "    </tr>\n",
       "  </tbody>\n",
       "</table>\n",
       "</div>"
      ],
      "text/plain": [
       "   x_1  x_2   y\n",
       "0    8   16  24\n",
       "1   32   40  48"
      ]
     },
     "execution_count": 13,
     "metadata": {},
     "output_type": "execute_result"
    }
   ],
   "source": [
    "df_sink = example.example_pipeline(df_src, factor)\n",
    "\n",
    "df_sink.head()"
   ]
  },
  {
   "cell_type": "code",
   "execution_count": 14,
   "id": "c9a57118-27df-4c53-9a2d-538c74837a92",
   "metadata": {
    "tags": []
   },
   "outputs": [],
   "source": [
    "ds_src.write(df_sink, kwargs={\"index\": False})"
   ]
  },
  {
   "cell_type": "code",
   "execution_count": null,
   "id": "a83b2e99-0c0d-42b5-9ef0-367a85313974",
   "metadata": {},
   "outputs": [],
   "source": []
  }
 ],
 "metadata": {
  "kernelspec": {
   "display_name": "Python 3 (ipykernel)",
   "language": "python",
   "name": "python3"
  },
  "language_info": {
   "codemirror_mode": {
    "name": "ipython",
    "version": 3
   },
   "file_extension": ".py",
   "mimetype": "text/x-python",
   "name": "python",
   "nbconvert_exporter": "python",
   "pygments_lexer": "ipython3",
   "version": "3.8.16"
  }
 },
 "nbformat": 4,
 "nbformat_minor": 5
}
